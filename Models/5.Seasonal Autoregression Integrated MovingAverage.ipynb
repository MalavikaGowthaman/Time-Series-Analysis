{
 "cells": [
  {
   "cell_type": "code",
   "execution_count": 1,
   "id": "7f33097c",
   "metadata": {},
   "outputs": [],
   "source": [
    "import pandas as pd\n",
    "from nsepy import get_history as gh\n",
    "import datetime as dt\n",
    "import yfinance as yf"
   ]
  },
  {
   "cell_type": "code",
   "execution_count": 2,
   "id": "60d2c8bb",
   "metadata": {},
   "outputs": [
    {
     "name": "stderr",
     "output_type": "stream",
     "text": [
      "[*********************100%%**********************]  1 of 1 completed\n"
     ]
    },
    {
     "data": {
      "text/html": [
       "<div>\n",
       "<style scoped>\n",
       "    .dataframe tbody tr th:only-of-type {\n",
       "        vertical-align: middle;\n",
       "    }\n",
       "\n",
       "    .dataframe tbody tr th {\n",
       "        vertical-align: top;\n",
       "    }\n",
       "\n",
       "    .dataframe thead th {\n",
       "        text-align: right;\n",
       "    }\n",
       "</style>\n",
       "<table border=\"1\" class=\"dataframe\">\n",
       "  <thead>\n",
       "    <tr style=\"text-align: right;\">\n",
       "      <th></th>\n",
       "      <th>Open</th>\n",
       "      <th>High</th>\n",
       "      <th>Low</th>\n",
       "      <th>Close</th>\n",
       "      <th>Adj Close</th>\n",
       "      <th>Volume</th>\n",
       "    </tr>\n",
       "    <tr>\n",
       "      <th>Date</th>\n",
       "      <th></th>\n",
       "      <th></th>\n",
       "      <th></th>\n",
       "      <th></th>\n",
       "      <th></th>\n",
       "      <th></th>\n",
       "    </tr>\n",
       "  </thead>\n",
       "  <tbody>\n",
       "    <tr>\n",
       "      <th>2021-07-01</th>\n",
       "      <td>1502.000000</td>\n",
       "      <td>1502.000000</td>\n",
       "      <td>1483.000000</td>\n",
       "      <td>1486.750000</td>\n",
       "      <td>1433.425293</td>\n",
       "      <td>8455721</td>\n",
       "    </tr>\n",
       "    <tr>\n",
       "      <th>2021-07-02</th>\n",
       "      <td>1485.000000</td>\n",
       "      <td>1489.250000</td>\n",
       "      <td>1477.000000</td>\n",
       "      <td>1480.400024</td>\n",
       "      <td>1427.302979</td>\n",
       "      <td>7413518</td>\n",
       "    </tr>\n",
       "    <tr>\n",
       "      <th>2021-07-05</th>\n",
       "      <td>1489.949951</td>\n",
       "      <td>1504.500000</td>\n",
       "      <td>1484.550049</td>\n",
       "      <td>1495.449951</td>\n",
       "      <td>1441.813232</td>\n",
       "      <td>3686941</td>\n",
       "    </tr>\n",
       "    <tr>\n",
       "      <th>2021-07-06</th>\n",
       "      <td>1497.000000</td>\n",
       "      <td>1540.000000</td>\n",
       "      <td>1496.000000</td>\n",
       "      <td>1534.699951</td>\n",
       "      <td>1479.655518</td>\n",
       "      <td>8834516</td>\n",
       "    </tr>\n",
       "    <tr>\n",
       "      <th>2021-07-07</th>\n",
       "      <td>1534.000000</td>\n",
       "      <td>1545.349976</td>\n",
       "      <td>1527.699951</td>\n",
       "      <td>1539.500000</td>\n",
       "      <td>1484.283325</td>\n",
       "      <td>4814595</td>\n",
       "    </tr>\n",
       "    <tr>\n",
       "      <th>...</th>\n",
       "      <td>...</td>\n",
       "      <td>...</td>\n",
       "      <td>...</td>\n",
       "      <td>...</td>\n",
       "      <td>...</td>\n",
       "      <td>...</td>\n",
       "    </tr>\n",
       "    <tr>\n",
       "      <th>2022-01-19</th>\n",
       "      <td>1534.000000</td>\n",
       "      <td>1539.750000</td>\n",
       "      <td>1513.349976</td>\n",
       "      <td>1518.449951</td>\n",
       "      <td>1463.988159</td>\n",
       "      <td>7158813</td>\n",
       "    </tr>\n",
       "    <tr>\n",
       "      <th>2022-01-20</th>\n",
       "      <td>1528.449951</td>\n",
       "      <td>1528.500000</td>\n",
       "      <td>1500.099976</td>\n",
       "      <td>1509.000000</td>\n",
       "      <td>1454.877197</td>\n",
       "      <td>7598923</td>\n",
       "    </tr>\n",
       "    <tr>\n",
       "      <th>2022-01-21</th>\n",
       "      <td>1500.000000</td>\n",
       "      <td>1529.800049</td>\n",
       "      <td>1485.599976</td>\n",
       "      <td>1521.599976</td>\n",
       "      <td>1467.025391</td>\n",
       "      <td>5768847</td>\n",
       "    </tr>\n",
       "    <tr>\n",
       "      <th>2022-01-24</th>\n",
       "      <td>1509.949951</td>\n",
       "      <td>1521.250000</td>\n",
       "      <td>1467.550049</td>\n",
       "      <td>1486.650024</td>\n",
       "      <td>1433.328979</td>\n",
       "      <td>5934254</td>\n",
       "    </tr>\n",
       "    <tr>\n",
       "      <th>2022-01-25</th>\n",
       "      <td>1458.650024</td>\n",
       "      <td>1495.000000</td>\n",
       "      <td>1444.000000</td>\n",
       "      <td>1488.050049</td>\n",
       "      <td>1434.678711</td>\n",
       "      <td>6797124</td>\n",
       "    </tr>\n",
       "  </tbody>\n",
       "</table>\n",
       "<p>143 rows × 6 columns</p>\n",
       "</div>"
      ],
      "text/plain": [
       "                   Open         High          Low        Close    Adj Close  \\\n",
       "Date                                                                          \n",
       "2021-07-01  1502.000000  1502.000000  1483.000000  1486.750000  1433.425293   \n",
       "2021-07-02  1485.000000  1489.250000  1477.000000  1480.400024  1427.302979   \n",
       "2021-07-05  1489.949951  1504.500000  1484.550049  1495.449951  1441.813232   \n",
       "2021-07-06  1497.000000  1540.000000  1496.000000  1534.699951  1479.655518   \n",
       "2021-07-07  1534.000000  1545.349976  1527.699951  1539.500000  1484.283325   \n",
       "...                 ...          ...          ...          ...          ...   \n",
       "2022-01-19  1534.000000  1539.750000  1513.349976  1518.449951  1463.988159   \n",
       "2022-01-20  1528.449951  1528.500000  1500.099976  1509.000000  1454.877197   \n",
       "2022-01-21  1500.000000  1529.800049  1485.599976  1521.599976  1467.025391   \n",
       "2022-01-24  1509.949951  1521.250000  1467.550049  1486.650024  1433.328979   \n",
       "2022-01-25  1458.650024  1495.000000  1444.000000  1488.050049  1434.678711   \n",
       "\n",
       "             Volume  \n",
       "Date                 \n",
       "2021-07-01  8455721  \n",
       "2021-07-02  7413518  \n",
       "2021-07-05  3686941  \n",
       "2021-07-06  8834516  \n",
       "2021-07-07  4814595  \n",
       "...             ...  \n",
       "2022-01-19  7158813  \n",
       "2022-01-20  7598923  \n",
       "2022-01-21  5768847  \n",
       "2022-01-24  5934254  \n",
       "2022-01-25  6797124  \n",
       "\n",
       "[143 rows x 6 columns]"
      ]
     },
     "execution_count": 2,
     "metadata": {},
     "output_type": "execute_result"
    }
   ],
   "source": [
    "import datetime as dt\n",
    "\n",
    "start = dt.datetime(2021, 7, 1)\n",
    "end = dt.datetime(2022, 1, 27)\n",
    "symbol = 'HDFCBANK.NS'  # Stock symbol in uppercase\n",
    "\n",
    "stock_data = yf.download(symbol, start=start, end=end)\n",
    "stock_data"
   ]
  },
  {
   "cell_type": "code",
   "execution_count": 3,
   "id": "34809ad5",
   "metadata": {},
   "outputs": [
    {
     "data": {
      "text/html": [
       "<div>\n",
       "<style scoped>\n",
       "    .dataframe tbody tr th:only-of-type {\n",
       "        vertical-align: middle;\n",
       "    }\n",
       "\n",
       "    .dataframe tbody tr th {\n",
       "        vertical-align: top;\n",
       "    }\n",
       "\n",
       "    .dataframe thead th {\n",
       "        text-align: right;\n",
       "    }\n",
       "</style>\n",
       "<table border=\"1\" class=\"dataframe\">\n",
       "  <thead>\n",
       "    <tr style=\"text-align: right;\">\n",
       "      <th></th>\n",
       "      <th>Open</th>\n",
       "      <th>High</th>\n",
       "      <th>Low</th>\n",
       "      <th>Close</th>\n",
       "    </tr>\n",
       "    <tr>\n",
       "      <th>Date</th>\n",
       "      <th></th>\n",
       "      <th></th>\n",
       "      <th></th>\n",
       "      <th></th>\n",
       "    </tr>\n",
       "  </thead>\n",
       "  <tbody>\n",
       "    <tr>\n",
       "      <th>2021-07-01</th>\n",
       "      <td>1502.000000</td>\n",
       "      <td>1502.000000</td>\n",
       "      <td>1483.000000</td>\n",
       "      <td>1486.750000</td>\n",
       "    </tr>\n",
       "    <tr>\n",
       "      <th>2021-07-02</th>\n",
       "      <td>1485.000000</td>\n",
       "      <td>1489.250000</td>\n",
       "      <td>1477.000000</td>\n",
       "      <td>1480.400024</td>\n",
       "    </tr>\n",
       "    <tr>\n",
       "      <th>2021-07-05</th>\n",
       "      <td>1489.949951</td>\n",
       "      <td>1504.500000</td>\n",
       "      <td>1484.550049</td>\n",
       "      <td>1495.449951</td>\n",
       "    </tr>\n",
       "    <tr>\n",
       "      <th>2021-07-06</th>\n",
       "      <td>1497.000000</td>\n",
       "      <td>1540.000000</td>\n",
       "      <td>1496.000000</td>\n",
       "      <td>1534.699951</td>\n",
       "    </tr>\n",
       "    <tr>\n",
       "      <th>2021-07-07</th>\n",
       "      <td>1534.000000</td>\n",
       "      <td>1545.349976</td>\n",
       "      <td>1527.699951</td>\n",
       "      <td>1539.500000</td>\n",
       "    </tr>\n",
       "    <tr>\n",
       "      <th>...</th>\n",
       "      <td>...</td>\n",
       "      <td>...</td>\n",
       "      <td>...</td>\n",
       "      <td>...</td>\n",
       "    </tr>\n",
       "    <tr>\n",
       "      <th>2022-01-19</th>\n",
       "      <td>1534.000000</td>\n",
       "      <td>1539.750000</td>\n",
       "      <td>1513.349976</td>\n",
       "      <td>1518.449951</td>\n",
       "    </tr>\n",
       "    <tr>\n",
       "      <th>2022-01-20</th>\n",
       "      <td>1528.449951</td>\n",
       "      <td>1528.500000</td>\n",
       "      <td>1500.099976</td>\n",
       "      <td>1509.000000</td>\n",
       "    </tr>\n",
       "    <tr>\n",
       "      <th>2022-01-21</th>\n",
       "      <td>1500.000000</td>\n",
       "      <td>1529.800049</td>\n",
       "      <td>1485.599976</td>\n",
       "      <td>1521.599976</td>\n",
       "    </tr>\n",
       "    <tr>\n",
       "      <th>2022-01-24</th>\n",
       "      <td>1509.949951</td>\n",
       "      <td>1521.250000</td>\n",
       "      <td>1467.550049</td>\n",
       "      <td>1486.650024</td>\n",
       "    </tr>\n",
       "    <tr>\n",
       "      <th>2022-01-25</th>\n",
       "      <td>1458.650024</td>\n",
       "      <td>1495.000000</td>\n",
       "      <td>1444.000000</td>\n",
       "      <td>1488.050049</td>\n",
       "    </tr>\n",
       "  </tbody>\n",
       "</table>\n",
       "<p>143 rows × 4 columns</p>\n",
       "</div>"
      ],
      "text/plain": [
       "                   Open         High          Low        Close\n",
       "Date                                                          \n",
       "2021-07-01  1502.000000  1502.000000  1483.000000  1486.750000\n",
       "2021-07-02  1485.000000  1489.250000  1477.000000  1480.400024\n",
       "2021-07-05  1489.949951  1504.500000  1484.550049  1495.449951\n",
       "2021-07-06  1497.000000  1540.000000  1496.000000  1534.699951\n",
       "2021-07-07  1534.000000  1545.349976  1527.699951  1539.500000\n",
       "...                 ...          ...          ...          ...\n",
       "2022-01-19  1534.000000  1539.750000  1513.349976  1518.449951\n",
       "2022-01-20  1528.449951  1528.500000  1500.099976  1509.000000\n",
       "2022-01-21  1500.000000  1529.800049  1485.599976  1521.599976\n",
       "2022-01-24  1509.949951  1521.250000  1467.550049  1486.650024\n",
       "2022-01-25  1458.650024  1495.000000  1444.000000  1488.050049\n",
       "\n",
       "[143 rows x 4 columns]"
      ]
     },
     "execution_count": 3,
     "metadata": {},
     "output_type": "execute_result"
    }
   ],
   "source": [
    "stock_data =stock_data[['Open','High','Low','Close']]\n",
    "stock_data"
   ]
  },
  {
   "cell_type": "code",
   "execution_count": 4,
   "id": "99a1b2e3",
   "metadata": {},
   "outputs": [],
   "source": [
    "column ='Close'"
   ]
  },
  {
   "cell_type": "code",
   "execution_count": 5,
   "id": "58a8b176",
   "metadata": {},
   "outputs": [
    {
     "name": "stdout",
     "output_type": "stream",
     "text": [
      "Length of the data 143 and Shape of data (143, 1)\n"
     ]
    }
   ],
   "source": [
    "from sklearn.preprocessing import MinMaxScaler\n",
    "Ms= MinMaxScaler()\n",
    "data = Ms.fit_transform(stock_data[[column]])\n",
    "print(\"Length of the data {} and Shape of data {}\".format(len(data),data.shape))"
   ]
  },
  {
   "cell_type": "code",
   "execution_count": 6,
   "id": "549381f7",
   "metadata": {},
   "outputs": [
    {
     "name": "stderr",
     "output_type": "stream",
     "text": [
      "C:\\Users\\kathi\\anaconda3\\envs\\tsa\\Lib\\site-packages\\statsmodels\\tsa\\statespace\\sarimax.py:978: UserWarning: Non-invertible starting MA parameters found. Using zeros as starting parameters.\n",
      "  warn('Non-invertible starting MA parameters found.'\n"
     ]
    },
    {
     "name": "stdout",
     "output_type": "stream",
     "text": [
      "Order =(0, 0, 1)\n",
      "RMSE-Testset: 0.25814577975009556\n",
      "maPe-Testset: 953375548714.6929\n",
      "*****************\n"
     ]
    },
    {
     "name": "stderr",
     "output_type": "stream",
     "text": [
      "C:\\Users\\kathi\\anaconda3\\envs\\tsa\\Lib\\site-packages\\sklearn\\metrics\\_regression.py:492: FutureWarning: 'squared' is deprecated in version 1.4 and will be removed in 1.6. To calculate the root mean squared error, use the function'root_mean_squared_error'.\n",
      "  warnings.warn(\n"
     ]
    },
    {
     "name": "stdout",
     "output_type": "stream",
     "text": [
      "Order =(0, 1, 1)\n",
      "RMSE-Testset: 0.06895413941642942\n",
      "maPe-Testset: 2661095431075.849\n",
      "*****************\n"
     ]
    },
    {
     "name": "stderr",
     "output_type": "stream",
     "text": [
      "C:\\Users\\kathi\\anaconda3\\envs\\tsa\\Lib\\site-packages\\sklearn\\metrics\\_regression.py:492: FutureWarning: 'squared' is deprecated in version 1.4 and will be removed in 1.6. To calculate the root mean squared error, use the function'root_mean_squared_error'.\n",
      "  warnings.warn(\n",
      "C:\\Users\\kathi\\anaconda3\\envs\\tsa\\Lib\\site-packages\\statsmodels\\base\\model.py:607: ConvergenceWarning: Maximum Likelihood optimization failed to converge. Check mle_retvals\n",
      "  warnings.warn(\"Maximum Likelihood optimization failed to \"\n",
      "C:\\Users\\kathi\\anaconda3\\envs\\tsa\\Lib\\site-packages\\sklearn\\metrics\\_regression.py:492: FutureWarning: 'squared' is deprecated in version 1.4 and will be removed in 1.6. To calculate the root mean squared error, use the function'root_mean_squared_error'.\n",
      "  warnings.warn(\n"
     ]
    },
    {
     "name": "stdout",
     "output_type": "stream",
     "text": [
      "Order =(1, 1, 1)\n",
      "RMSE-Testset: 0.06744681485273991\n",
      "maPe-Testset: 2527033380854.999\n",
      "*****************\n",
      "Order =(2, 0, 0)\n",
      "RMSE-Testset: 0.06883929007922286\n",
      "maPe-Testset: 2617436526252.863\n",
      "*****************\n"
     ]
    },
    {
     "name": "stderr",
     "output_type": "stream",
     "text": [
      "C:\\Users\\kathi\\anaconda3\\envs\\tsa\\Lib\\site-packages\\sklearn\\metrics\\_regression.py:492: FutureWarning: 'squared' is deprecated in version 1.4 and will be removed in 1.6. To calculate the root mean squared error, use the function'root_mean_squared_error'.\n",
      "  warnings.warn(\n"
     ]
    }
   ],
   "source": [
    "from sklearn.metrics import mean_squared_error\n",
    "# trends = ['n','t','c','ct']\n",
    "orders = [(0,0,1),(0,1,1),(1,1,1),(2,0,0)]\n",
    "\n",
    "from statsmodels.tsa.statespace.sarimax import SARIMAX\n",
    "for i in orders:\n",
    "    model = SARIMAX(data,order =i,seasonal_order=(0,0,0,12))\n",
    "    model_fit=model.fit()\n",
    "    \n",
    "    test_pred = model_fit.predict(0,len(data)-1)\n",
    "    test_pred\n",
    "    \n",
    "#     from sklearn.metrics import r2_score\n",
    "#     mse = mean_squared_error(Y_test,test_pred,squared =False)\n",
    "    \n",
    "    from functions import rmsemape\n",
    "    print(\"Order ={}\".format(i))\n",
    "    rmsemape(data,test_pred)\n",
    "    print(\"*****************\")"
   ]
  },
  {
   "cell_type": "code",
   "execution_count": 7,
   "id": "356f5aed",
   "metadata": {},
   "outputs": [
    {
     "data": {
      "text/plain": [
       "143"
      ]
     },
     "execution_count": 7,
     "metadata": {},
     "output_type": "execute_result"
    }
   ],
   "source": [
    "len(test_pred)"
   ]
  },
  {
   "cell_type": "code",
   "execution_count": 8,
   "id": "10f57313",
   "metadata": {},
   "outputs": [
    {
     "data": {
      "image/png": "[encoded data removed]",
      "text/plain": [
       "<Figure size 1000x500 with 1 Axes>"
      ]
     },
     "metadata": {},
     "output_type": "display_data"
    }
   ],
   "source": [
    "from functions import graph\n",
    "graph(data,test_pred,\"Actual\",\"Predicted\",\"HDFCBANK. -Close-MA-Norm\",\"Days\",\"Prices\")"
   ]
  },
  {
   "cell_type": "code",
   "execution_count": 9,
   "id": "45977e27",
   "metadata": {},
   "outputs": [
    {
     "data": {
      "text/html": [
       "<div>\n",
       "<style scoped>\n",
       "    .dataframe tbody tr th:only-of-type {\n",
       "        vertical-align: middle;\n",
       "    }\n",
       "\n",
       "    .dataframe tbody tr th {\n",
       "        vertical-align: top;\n",
       "    }\n",
       "\n",
       "    .dataframe thead th {\n",
       "        text-align: right;\n",
       "    }\n",
       "</style>\n",
       "<table border=\"1\" class=\"dataframe\">\n",
       "  <thead>\n",
       "    <tr style=\"text-align: right;\">\n",
       "      <th></th>\n",
       "      <th>Close</th>\n",
       "    </tr>\n",
       "  </thead>\n",
       "  <tbody>\n",
       "    <tr>\n",
       "      <th>0</th>\n",
       "      <td>1486.75</td>\n",
       "    </tr>\n",
       "    <tr>\n",
       "      <th>1</th>\n",
       "      <td>1480.400024</td>\n",
       "    </tr>\n",
       "    <tr>\n",
       "      <th>2</th>\n",
       "      <td>1495.449951</td>\n",
       "    </tr>\n",
       "    <tr>\n",
       "      <th>3</th>\n",
       "      <td>1534.699951</td>\n",
       "    </tr>\n",
       "    <tr>\n",
       "      <th>4</th>\n",
       "      <td>1539.5</td>\n",
       "    </tr>\n",
       "    <tr>\n",
       "      <th>...</th>\n",
       "      <td>...</td>\n",
       "    </tr>\n",
       "    <tr>\n",
       "      <th>138</th>\n",
       "      <td>1518.449951</td>\n",
       "    </tr>\n",
       "    <tr>\n",
       "      <th>139</th>\n",
       "      <td>1509.0</td>\n",
       "    </tr>\n",
       "    <tr>\n",
       "      <th>140</th>\n",
       "      <td>1521.599976</td>\n",
       "    </tr>\n",
       "    <tr>\n",
       "      <th>141</th>\n",
       "      <td>1486.650024</td>\n",
       "    </tr>\n",
       "    <tr>\n",
       "      <th>142</th>\n",
       "      <td>1488.050049</td>\n",
       "    </tr>\n",
       "  </tbody>\n",
       "</table>\n",
       "<p>143 rows × 1 columns</p>\n",
       "</div>"
      ],
      "text/plain": [
       "           Close\n",
       "0        1486.75\n",
       "1    1480.400024\n",
       "2    1495.449951\n",
       "3    1534.699951\n",
       "4         1539.5\n",
       "..           ...\n",
       "138  1518.449951\n",
       "139       1509.0\n",
       "140  1521.599976\n",
       "141  1486.650024\n",
       "142  1488.050049\n",
       "\n",
       "[143 rows x 1 columns]"
      ]
     },
     "execution_count": 9,
     "metadata": {},
     "output_type": "execute_result"
    }
   ],
   "source": [
    "from functions import conversionSingle\n",
    "aTestNormTable = conversionSingle(data,['Close'])\n",
    "actual_stock_price_test_ori=Ms.inverse_transform(aTestNormTable)\n",
    "# actual_stock_price_test_ori\n",
    "actual_stock_price_test_oriA=conversionSingle(actual_stock_price_test_ori,['Close'])\n",
    "actual_stock_price_test_oriA"
   ]
  },
  {
   "cell_type": "code",
   "execution_count": 10,
   "id": "a8e1d513",
   "metadata": {},
   "outputs": [],
   "source": [
    "# from stockFunctions import conversionSingle\n",
    "pTestNormTable=conversionSingle(test_pred,['Close'])\n",
    "predicted_stock_price_test_ori=Ms.inverse_transform(pTestNormTable)\n",
    "predicted_stock_price_test_oriP=conversionSingle(predicted_stock_price_test_ori,['Close'])"
   ]
  },
  {
   "cell_type": "code",
   "execution_count": 11,
   "id": "1d9527e3",
   "metadata": {},
   "outputs": [
    {
     "data": {
      "text/html": [
       "<div>\n",
       "<style scoped>\n",
       "    .dataframe tbody tr th:only-of-type {\n",
       "        vertical-align: middle;\n",
       "    }\n",
       "\n",
       "    .dataframe tbody tr th {\n",
       "        vertical-align: top;\n",
       "    }\n",
       "\n",
       "    .dataframe thead th {\n",
       "        text-align: right;\n",
       "    }\n",
       "</style>\n",
       "<table border=\"1\" class=\"dataframe\">\n",
       "  <thead>\n",
       "    <tr style=\"text-align: right;\">\n",
       "      <th></th>\n",
       "      <th>Close</th>\n",
       "    </tr>\n",
       "  </thead>\n",
       "  <tbody>\n",
       "    <tr>\n",
       "      <th>0</th>\n",
       "      <td>1417.300049</td>\n",
       "    </tr>\n",
       "    <tr>\n",
       "      <th>1</th>\n",
       "      <td>1485.935121</td>\n",
       "    </tr>\n",
       "    <tr>\n",
       "      <th>2</th>\n",
       "      <td>1479.128992</td>\n",
       "    </tr>\n",
       "    <tr>\n",
       "      <th>3</th>\n",
       "      <td>1495.590739</td>\n",
       "    </tr>\n",
       "    <tr>\n",
       "      <th>4</th>\n",
       "      <td>1536.156931</td>\n",
       "    </tr>\n",
       "    <tr>\n",
       "      <th>...</th>\n",
       "      <td>...</td>\n",
       "    </tr>\n",
       "    <tr>\n",
       "      <th>138</th>\n",
       "      <td>1528.418174</td>\n",
       "    </tr>\n",
       "    <tr>\n",
       "      <th>139</th>\n",
       "      <td>1516.365998</td>\n",
       "    </tr>\n",
       "    <tr>\n",
       "      <th>140</th>\n",
       "      <td>1507.13627</td>\n",
       "    </tr>\n",
       "    <tr>\n",
       "      <th>141</th>\n",
       "      <td>1521.227612</td>\n",
       "    </tr>\n",
       "    <tr>\n",
       "      <th>142</th>\n",
       "      <td>1483.159677</td>\n",
       "    </tr>\n",
       "  </tbody>\n",
       "</table>\n",
       "<p>143 rows × 1 columns</p>\n",
       "</div>"
      ],
      "text/plain": [
       "           Close\n",
       "0    1417.300049\n",
       "1    1485.935121\n",
       "2    1479.128992\n",
       "3    1495.590739\n",
       "4    1536.156931\n",
       "..           ...\n",
       "138  1528.418174\n",
       "139  1516.365998\n",
       "140   1507.13627\n",
       "141  1521.227612\n",
       "142  1483.159677\n",
       "\n",
       "[143 rows x 1 columns]"
      ]
     },
     "execution_count": 11,
     "metadata": {},
     "output_type": "execute_result"
    }
   ],
   "source": [
    "predicted_stock_price_test_oriP"
   ]
  },
  {
   "cell_type": "code",
   "execution_count": 12,
   "id": "1f11d605",
   "metadata": {},
   "outputs": [
    {
     "data": {
      "image/png": "[encoded data removed]",
      "text/plain": [
       "<Figure size 1000x500 with 1 Axes>"
      ]
     },
     "metadata": {},
     "output_type": "display_data"
    }
   ],
   "source": [
    "# from stockFunctions import graph\n",
    "graph(actual_stock_price_test_oriA,predicted_stock_price_test_oriP,\"Actual\",\"Predicted\",\"AXISBANK-Close-AR-Ori\",\"Days\",\"Prices\")"
   ]
  },
  {
   "cell_type": "code",
   "execution_count": 13,
   "id": "8cf9b925",
   "metadata": {},
   "outputs": [
    {
     "name": "stdout",
     "output_type": "stream",
     "text": [
      "RMSE-Testset: 18.682976604914177\n",
      "maPe-Testset: 0.009327499195177825\n"
     ]
    },
    {
     "name": "stderr",
     "output_type": "stream",
     "text": [
      "C:\\Users\\kathi\\anaconda3\\envs\\tsa\\Lib\\site-packages\\sklearn\\metrics\\_regression.py:492: FutureWarning: 'squared' is deprecated in version 1.4 and will be removed in 1.6. To calculate the root mean squared error, use the function'root_mean_squared_error'.\n",
      "  warnings.warn(\n"
     ]
    }
   ],
   "source": [
    "rmsemape(actual_stock_price_test_oriA,predicted_stock_price_test_oriP)\n"
   ]
  },
  {
   "cell_type": "code",
   "execution_count": 14,
   "id": "e0950ddc",
   "metadata": {},
   "outputs": [
    {
     "data": {
      "text/plain": [
       "array([0.25778388, 0.25431568, 0.25084881, 0.24742577, 0.24404917,\n",
       "       0.24071864, 0.23743355, 0.2341933 , 0.23099726, 0.22784485,\n",
       "       0.22473545, 0.22166849, 0.21864338, 0.21565955, 0.21271645,\n",
       "       0.20981351, 0.20695019, 0.20412594, 0.20134024, 0.19859255,\n",
       "       0.19588236, 0.19320915, 0.19057243, 0.18797169, 0.18540644,\n",
       "       0.1828762 , 0.18038049, 0.17791884, 0.17549078, 0.17309586,\n",
       "       0.17073362])"
      ]
     },
     "execution_count": 14,
     "metadata": {},
     "output_type": "execute_result"
    }
   ],
   "source": [
    "forecast=model_fit.predict(len(data), len(data)+30)\n",
    "forecast"
   ]
  },
  {
   "cell_type": "code",
   "execution_count": 15,
   "id": "1d0f4d7c",
   "metadata": {},
   "outputs": [
    {
     "data": {
      "text/html": [
       "<div>\n",
       "<style scoped>\n",
       "    .dataframe tbody tr th:only-of-type {\n",
       "        vertical-align: middle;\n",
       "    }\n",
       "\n",
       "    .dataframe tbody tr th {\n",
       "        vertical-align: top;\n",
       "    }\n",
       "\n",
       "    .dataframe thead th {\n",
       "        text-align: right;\n",
       "    }\n",
       "</style>\n",
       "<table border=\"1\" class=\"dataframe\">\n",
       "  <thead>\n",
       "    <tr style=\"text-align: right;\">\n",
       "      <th></th>\n",
       "      <th>Closefore</th>\n",
       "    </tr>\n",
       "  </thead>\n",
       "  <tbody>\n",
       "    <tr>\n",
       "      <th>0</th>\n",
       "      <td>1487.262568</td>\n",
       "    </tr>\n",
       "    <tr>\n",
       "      <th>1</th>\n",
       "      <td>1486.321299</td>\n",
       "    </tr>\n",
       "    <tr>\n",
       "      <th>2</th>\n",
       "      <td>1485.380392</td>\n",
       "    </tr>\n",
       "    <tr>\n",
       "      <th>3</th>\n",
       "      <td>1484.451378</td>\n",
       "    </tr>\n",
       "    <tr>\n",
       "      <th>4</th>\n",
       "      <td>1483.53497</td>\n",
       "    </tr>\n",
       "    <tr>\n",
       "      <th>5</th>\n",
       "      <td>1482.631063</td>\n",
       "    </tr>\n",
       "    <tr>\n",
       "      <th>6</th>\n",
       "      <td>1481.739491</td>\n",
       "    </tr>\n",
       "    <tr>\n",
       "      <th>7</th>\n",
       "      <td>1480.860087</td>\n",
       "    </tr>\n",
       "    <tr>\n",
       "      <th>8</th>\n",
       "      <td>1479.992684</td>\n",
       "    </tr>\n",
       "    <tr>\n",
       "      <th>9</th>\n",
       "      <td>1479.137118</td>\n",
       "    </tr>\n",
       "    <tr>\n",
       "      <th>10</th>\n",
       "      <td>1478.293228</td>\n",
       "    </tr>\n",
       "    <tr>\n",
       "      <th>11</th>\n",
       "      <td>1477.460855</td>\n",
       "    </tr>\n",
       "    <tr>\n",
       "      <th>12</th>\n",
       "      <td>1476.639841</td>\n",
       "    </tr>\n",
       "    <tr>\n",
       "      <th>13</th>\n",
       "      <td>1475.830031</td>\n",
       "    </tr>\n",
       "    <tr>\n",
       "      <th>14</th>\n",
       "      <td>1475.031273</td>\n",
       "    </tr>\n",
       "    <tr>\n",
       "      <th>15</th>\n",
       "      <td>1474.243415</td>\n",
       "    </tr>\n",
       "    <tr>\n",
       "      <th>16</th>\n",
       "      <td>1473.46631</td>\n",
       "    </tr>\n",
       "    <tr>\n",
       "      <th>17</th>\n",
       "      <td>1472.699809</td>\n",
       "    </tr>\n",
       "    <tr>\n",
       "      <th>18</th>\n",
       "      <td>1471.943769</td>\n",
       "    </tr>\n",
       "    <tr>\n",
       "      <th>19</th>\n",
       "      <td>1471.198047</td>\n",
       "    </tr>\n",
       "    <tr>\n",
       "      <th>20</th>\n",
       "      <td>1470.462501</td>\n",
       "    </tr>\n",
       "    <tr>\n",
       "      <th>21</th>\n",
       "      <td>1469.736994</td>\n",
       "    </tr>\n",
       "    <tr>\n",
       "      <th>22</th>\n",
       "      <td>1469.021387</td>\n",
       "    </tr>\n",
       "    <tr>\n",
       "      <th>23</th>\n",
       "      <td>1468.315547</td>\n",
       "    </tr>\n",
       "    <tr>\n",
       "      <th>24</th>\n",
       "      <td>1467.619338</td>\n",
       "    </tr>\n",
       "    <tr>\n",
       "      <th>25</th>\n",
       "      <td>1466.932632</td>\n",
       "    </tr>\n",
       "    <tr>\n",
       "      <th>26</th>\n",
       "      <td>1466.255296</td>\n",
       "    </tr>\n",
       "    <tr>\n",
       "      <th>27</th>\n",
       "      <td>1465.587204</td>\n",
       "    </tr>\n",
       "    <tr>\n",
       "      <th>28</th>\n",
       "      <td>1464.92823</td>\n",
       "    </tr>\n",
       "    <tr>\n",
       "      <th>29</th>\n",
       "      <td>1464.278249</td>\n",
       "    </tr>\n",
       "    <tr>\n",
       "      <th>30</th>\n",
       "      <td>1463.637137</td>\n",
       "    </tr>\n",
       "  </tbody>\n",
       "</table>\n",
       "</div>"
      ],
      "text/plain": [
       "      Closefore\n",
       "0   1487.262568\n",
       "1   1486.321299\n",
       "2   1485.380392\n",
       "3   1484.451378\n",
       "4    1483.53497\n",
       "5   1482.631063\n",
       "6   1481.739491\n",
       "7   1480.860087\n",
       "8   1479.992684\n",
       "9   1479.137118\n",
       "10  1478.293228\n",
       "11  1477.460855\n",
       "12  1476.639841\n",
       "13  1475.830031\n",
       "14  1475.031273\n",
       "15  1474.243415\n",
       "16   1473.46631\n",
       "17  1472.699809\n",
       "18  1471.943769\n",
       "19  1471.198047\n",
       "20  1470.462501\n",
       "21  1469.736994\n",
       "22  1469.021387\n",
       "23  1468.315547\n",
       "24  1467.619338\n",
       "25  1466.932632\n",
       "26  1466.255296\n",
       "27  1465.587204\n",
       "28   1464.92823\n",
       "29  1464.278249\n",
       "30  1463.637137"
      ]
     },
     "execution_count": 15,
     "metadata": {},
     "output_type": "execute_result"
    }
   ],
   "source": [
    "fTestNormTable=conversionSingle(forecast,[\"Closefore\"])\n",
    "forecast_stock_price_test_ori=Ms.inverse_transform(fTestNormTable)\n",
    "forecast_stock_price_test_oriF=conversionSingle(forecast_stock_price_test_ori,[\"Closefore\"])\n",
    "forecast_stock_price_test_oriF"
   ]
  },
  {
   "cell_type": "code",
   "execution_count": 16,
   "id": "8de44c9c",
   "metadata": {},
   "outputs": [],
   "source": [
    "forecast_stock_price_test_oriF.to_csv(\"CloseSARIMA.csv\",index=False)"
   ]
  },
  {
   "cell_type": "code",
   "execution_count": 17,
   "id": "d84ed2cd",
   "metadata": {},
   "outputs": [
    {
     "data": {
      "text/plain": [
       "[<matplotlib.lines.Line2D at 0x200ce858e50>]"
      ]
     },
     "execution_count": 17,
     "metadata": {},
     "output_type": "execute_result"
    },
    {
     "data": {
      "image/png": "[encoded data removed]",
      "text/plain": [
       "<Figure size 1000x500 with 1 Axes>"
      ]
     },
     "metadata": {},
     "output_type": "display_data"
    }
   ],
   "source": [
    "import matplotlib.pyplot as plt\n",
    "plt.figure(figsize=(10,5))\n",
    "plt.plot(actual_stock_price_test_oriA[200:145], color = 'blue', label=\"Actual\")\n",
    "plt.plot(forecast_stock_price_test_oriF, color = 'red', label =\"Predicted\")"
   ]
  },
  {
   "cell_type": "code",
   "execution_count": null,
   "id": "bdbfc496",
   "metadata": {},
   "outputs": [],
   "source": []
  },
  {
   "cell_type": "code",
   "execution_count": null,
   "id": "b02b4977",
   "metadata": {},
   "outputs": [],
   "source": []
  }
 ],
 "metadata": {
  "kernelspec": {
   "display_name": "Python 3 (ipykernel)",
   "language": "python",
   "name": "python3"
  },
  "language_info": {
   "codemirror_mode": {
    "name": "ipython",
    "version": 3
   },
   "file_extension": ".py",
   "mimetype": "text/x-python",
   "name": "python",
   "nbconvert_exporter": "python",
   "pygments_lexer": "ipython3",
   "version": "3.11.9"
  }
 },
 "nbformat": 4,
 "nbformat_minor": 5
}
