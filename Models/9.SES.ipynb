{
 "cells": [
  {
   "cell_type": "code",
   "execution_count": 1,
   "id": "e99103dd",
   "metadata": {},
   "outputs": [],
   "source": [
    "import pandas as pd\n",
    "from nsepy import get_history as gh\n",
    "import datetime as dt\n",
    "import yfinance as yf"
   ]
  },
  {
   "cell_type": "code",
   "execution_count": 2,
   "id": "823c37a0",
   "metadata": {},
   "outputs": [
    {
     "name": "stderr",
     "output_type": "stream",
     "text": [
      "[*********************100%%**********************]  1 of 1 completed\n"
     ]
    }
   ],
   "source": [
    "import datetime as dt\n",
    "\n",
    "start = dt.datetime(2021, 7, 1)\n",
    "end = dt.datetime(2022, 1, 27)\n",
    "symbol = 'HDFCBANK.NS'  # Stock symbol in uppercase\n",
    "\n",
    "stk_data = yf.download(symbol, start=start, end=end)"
   ]
  },
  {
   "cell_type": "code",
   "execution_count": 3,
   "id": "f133b521",
   "metadata": {},
   "outputs": [],
   "source": [
    "stk_data=stk_data[[\"Open\",\"High\",\"Low\",\"Close\"]]\n"
   ]
  },
  {
   "cell_type": "code",
   "execution_count": 4,
   "id": "6caa5f1a",
   "metadata": {},
   "outputs": [
    {
     "name": "stdout",
     "output_type": "stream",
     "text": [
      "Len: (143, 4)\n"
     ]
    }
   ],
   "source": [
    "from sklearn.preprocessing import MinMaxScaler\n",
    "Ms = MinMaxScaler()\n",
    "data1= Ms.fit_transform(stk_data)\n",
    "print(\"Len:\",data1.shape)"
   ]
  },
  {
   "cell_type": "code",
   "execution_count": 5,
   "id": "0657507f",
   "metadata": {},
   "outputs": [],
   "source": [
    "data1=pd.DataFrame(data1,columns=[\"Open\",\"High\",\"Low\",\"Close\"])\n",
    "dataset=data1"
   ]
  },
  {
   "cell_type": "code",
   "execution_count": 6,
   "id": "1f7ff9ad",
   "metadata": {},
   "outputs": [
    {
     "name": "stdout",
     "output_type": "stream",
     "text": [
      "114\n",
      "X_train length: (114, 4)\n",
      "X_test length: (29, 4)\n",
      "y_train length: (114, 4)\n",
      "y_test length: (29, 4)\n"
     ]
    }
   ],
   "source": [
    "\n",
    "training_size = round(len(data1 ) * 0.80)\n",
    "print(training_size)\n",
    "X_train=data1[:training_size]\n",
    "X_test=data1[training_size:]\n",
    "print(\"X_train length:\",X_train.shape)\n",
    "print(\"X_test length:\",X_test.shape)\n",
    "y_train=data1[:training_size]\n",
    "y_test=data1[training_size:]\n",
    "print(\"y_train length:\",y_train.shape)\n",
    "print(\"y_test length:\",y_test.shape)"
   ]
  },
  {
   "cell_type": "code",
   "execution_count": 7,
   "id": "ebabcc77",
   "metadata": {},
   "outputs": [],
   "source": [
    "import warnings\n",
    "warnings.filterwarnings(\"ignore\")"
   ]
  },
  {
   "cell_type": "code",
   "execution_count": 8,
   "id": "50a88b36",
   "metadata": {},
   "outputs": [],
   "source": [
    "performance={\"Model\":[],\"RMSE\":[],\"MaPe\":[],\"Lag\":[],\"Test\":[]}\n"
   ]
  },
  {
   "cell_type": "code",
   "execution_count": 9,
   "id": "bf90010e",
   "metadata": {},
   "outputs": [],
   "source": [
    "def combination(dataset, listt):\n",
    "    \"\"\"\n",
    "    Function to perform Simple Exponential Smoothing (SES) algorithm for forecasting.\n",
    "\n",
    "    Parameters:\n",
    "    - dataset: Pandas DataFrame or Series containing the time series data.\n",
    "    - listt: List of variables to use for forecasting.\n",
    "\n",
    "    Returns:\n",
    "    - perf: DataFrame containing performance metrics.\n",
    "    - model: Fitted SES model.\n",
    "    - pred: Forecasted values.\n",
    "    \"\"\"\n",
    "    print(listt)\n",
    "    datasetTwo = dataset[listt]\n",
    "    test_obs = 28\n",
    "    train = datasetTwo[:-test_obs][listt[0]]  # Selecting the first variable for training\n",
    "    test = datasetTwo[-test_obs:]\n",
    "\n",
    "    from statsmodels.tsa.holtwinters import SimpleExpSmoothing\n",
    "    from sklearn.metrics import mean_squared_error, mean_absolute_percentage_error\n",
    "\n",
    "    performance = {\n",
    "        \"Model\": [],\n",
    "        \"RMSE\": [],\n",
    "        \"MaPe\": [],\n",
    "        \"Test\": []\n",
    "    }\n",
    "\n",
    "    best_alpha = None\n",
    "    best_rmse = float('inf')\n",
    "\n",
    "    for alpha in [0.1, 0.2, 0.3, 0.4, 0.5, 0.6, 0.7, 0.8, 0.9]:  # Try different alpha values\n",
    "        model = SimpleExpSmoothing(train)\n",
    "        fit_model = model.fit(smoothing_level=alpha)\n",
    "\n",
    "        # Forecast\n",
    "        pred = fit_model.forecast(len(test))  # Forecast for the same number of observations as test data\n",
    "\n",
    "        # Calculate RMSE\n",
    "        rmse = mean_squared_error(test[listt[0]], pred, squared=False)  # Selecting the first variable for comparison\n",
    "\n",
    "        # Check if current model has lower RMSE\n",
    "        if rmse < best_rmse:\n",
    "            best_rmse = rmse\n",
    "            best_alpha = alpha\n",
    "            best_pred = pred\n",
    "\n",
    "    print(\"Best alpha:\", best_alpha)\n",
    "    print(\"Best RMSE:\", best_rmse)\n",
    "\n",
    "    # Calculate MAPE\n",
    "    mape = mean_absolute_percentage_error(test[listt[0]], best_pred)  # Selecting the first variable for comparison\n",
    "\n",
    "    # Store performance metrics\n",
    "    performance[\"Model\"].append(listt)\n",
    "    performance[\"RMSE\"].append(best_rmse)\n",
    "    performance[\"MaPe\"].append(mape)\n",
    "    performance[\"Test\"].append(test_obs)\n",
    "\n",
    "    perf = pd.DataFrame(performance)\n",
    "    return perf, fit_model, best_pred\n"
   ]
  },
  {
   "cell_type": "code",
   "execution_count": 10,
   "id": "a27c8bc1",
   "metadata": {},
   "outputs": [],
   "source": [
    "listt=[\"Close\",\"High\",\"Open\",\"Low\"]\n"
   ]
  },
  {
   "cell_type": "code",
   "execution_count": 11,
   "id": "9ba9229d",
   "metadata": {},
   "outputs": [
    {
     "name": "stdout",
     "output_type": "stream",
     "text": [
      "['Close', 'High', 'Open', 'Low']\n",
      "Best alpha: 0.8\n",
      "Best RMSE: 0.16096424359177167\n"
     ]
    },
    {
     "name": "stderr",
     "output_type": "stream",
     "text": [
      "C:\\Users\\kathi\\anaconda3\\envs\\tsa\\Lib\\site-packages\\pandas\\util\\_decorators.py:213: EstimationWarning: Model has no free parameters to estimate. Set optimized=False to suppress this warning\n",
      "  return func(*args, **kwargs)\n",
      "C:\\Users\\kathi\\anaconda3\\envs\\tsa\\Lib\\site-packages\\pandas\\util\\_decorators.py:213: EstimationWarning: Model has no free parameters to estimate. Set optimized=False to suppress this warning\n",
      "  return func(*args, **kwargs)\n",
      "C:\\Users\\kathi\\anaconda3\\envs\\tsa\\Lib\\site-packages\\pandas\\util\\_decorators.py:213: EstimationWarning: Model has no free parameters to estimate. Set optimized=False to suppress this warning\n",
      "  return func(*args, **kwargs)\n",
      "C:\\Users\\kathi\\anaconda3\\envs\\tsa\\Lib\\site-packages\\pandas\\util\\_decorators.py:213: EstimationWarning: Model has no free parameters to estimate. Set optimized=False to suppress this warning\n",
      "  return func(*args, **kwargs)\n",
      "C:\\Users\\kathi\\anaconda3\\envs\\tsa\\Lib\\site-packages\\pandas\\util\\_decorators.py:213: EstimationWarning: Model has no free parameters to estimate. Set optimized=False to suppress this warning\n",
      "  return func(*args, **kwargs)\n",
      "C:\\Users\\kathi\\anaconda3\\envs\\tsa\\Lib\\site-packages\\pandas\\util\\_decorators.py:213: EstimationWarning: Model has no free parameters to estimate. Set optimized=False to suppress this warning\n",
      "  return func(*args, **kwargs)\n",
      "C:\\Users\\kathi\\anaconda3\\envs\\tsa\\Lib\\site-packages\\pandas\\util\\_decorators.py:213: EstimationWarning: Model has no free parameters to estimate. Set optimized=False to suppress this warning\n",
      "  return func(*args, **kwargs)\n",
      "C:\\Users\\kathi\\anaconda3\\envs\\tsa\\Lib\\site-packages\\pandas\\util\\_decorators.py:213: EstimationWarning: Model has no free parameters to estimate. Set optimized=False to suppress this warning\n",
      "  return func(*args, **kwargs)\n",
      "C:\\Users\\kathi\\anaconda3\\envs\\tsa\\Lib\\site-packages\\pandas\\util\\_decorators.py:213: EstimationWarning: Model has no free parameters to estimate. Set optimized=False to suppress this warning\n",
      "  return func(*args, **kwargs)\n"
     ]
    }
   ],
   "source": [
    "perf,result,pred=combination(data1, listt)\n"
   ]
  },
  {
   "cell_type": "code",
   "execution_count": 12,
   "id": "daadd1f0",
   "metadata": {},
   "outputs": [
    {
     "data": {
      "text/plain": [
       "<statsmodels.tsa.holtwinters.results.HoltWintersResultsWrapper at 0x202573611d0>"
      ]
     },
     "execution_count": 12,
     "metadata": {},
     "output_type": "execute_result"
    }
   ],
   "source": [
    "result"
   ]
  },
  {
   "cell_type": "code",
   "execution_count": 13,
   "id": "4327c537",
   "metadata": {},
   "outputs": [
    {
     "data": {
      "text/plain": [
       "115    0.305706\n",
       "116    0.305706\n",
       "117    0.305706\n",
       "118    0.305706\n",
       "119    0.305706\n",
       "120    0.305706\n",
       "121    0.305706\n",
       "122    0.305706\n",
       "123    0.305706\n",
       "124    0.305706\n",
       "125    0.305706\n",
       "126    0.305706\n",
       "127    0.305706\n",
       "128    0.305706\n",
       "129    0.305706\n",
       "130    0.305706\n",
       "131    0.305706\n",
       "132    0.305706\n",
       "133    0.305706\n",
       "134    0.305706\n",
       "135    0.305706\n",
       "136    0.305706\n",
       "137    0.305706\n",
       "138    0.305706\n",
       "139    0.305706\n",
       "140    0.305706\n",
       "141    0.305706\n",
       "142    0.305706\n",
       "dtype: float64"
      ]
     },
     "execution_count": 13,
     "metadata": {},
     "output_type": "execute_result"
    }
   ],
   "source": [
    "pred"
   ]
  },
  {
   "cell_type": "code",
   "execution_count": 14,
   "id": "8ec84c46",
   "metadata": {},
   "outputs": [
    {
     "data": {
      "text/html": [
       "<div>\n",
       "<style scoped>\n",
       "    .dataframe tbody tr th:only-of-type {\n",
       "        vertical-align: middle;\n",
       "    }\n",
       "\n",
       "    .dataframe tbody tr th {\n",
       "        vertical-align: top;\n",
       "    }\n",
       "\n",
       "    .dataframe thead th {\n",
       "        text-align: right;\n",
       "    }\n",
       "</style>\n",
       "<table border=\"1\" class=\"dataframe\">\n",
       "  <thead>\n",
       "    <tr style=\"text-align: right;\">\n",
       "      <th></th>\n",
       "      <th>Model</th>\n",
       "      <th>RMSE</th>\n",
       "      <th>MaPe</th>\n",
       "      <th>Test</th>\n",
       "    </tr>\n",
       "  </thead>\n",
       "  <tbody>\n",
       "    <tr>\n",
       "      <th>0</th>\n",
       "      <td>[Close, High, Open, Low]</td>\n",
       "      <td>0.160964</td>\n",
       "      <td>1.012292</td>\n",
       "      <td>28</td>\n",
       "    </tr>\n",
       "  </tbody>\n",
       "</table>\n",
       "</div>"
      ],
      "text/plain": [
       "                      Model      RMSE      MaPe  Test\n",
       "0  [Close, High, Open, Low]  0.160964  1.012292    28"
      ]
     },
     "execution_count": 14,
     "metadata": {},
     "output_type": "execute_result"
    }
   ],
   "source": [
    "perf"
   ]
  }
 ],
 "metadata": {
  "kernelspec": {
   "display_name": "Python 3 (ipykernel)",
   "language": "python",
   "name": "python3"
  },
  "language_info": {
   "codemirror_mode": {
    "name": "ipython",
    "version": 3
   },
   "file_extension": ".py",
   "mimetype": "text/x-python",
   "name": "python",
   "nbconvert_exporter": "python",
   "pygments_lexer": "ipython3",
   "version": "3.11.9"
  }
 },
 "nbformat": 4,
 "nbformat_minor": 5
}
